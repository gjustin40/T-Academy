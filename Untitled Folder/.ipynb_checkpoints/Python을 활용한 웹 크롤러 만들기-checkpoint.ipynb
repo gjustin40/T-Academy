{
 "cells": [
  {
   "cell_type": "markdown",
   "metadata": {},
   "source": [
    "# T아카데미 : Python을 활용한 웹 크롤러 만들기"
   ]
  },
  {
   "cell_type": "code",
   "execution_count": 9,
   "metadata": {},
   "outputs": [],
   "source": [
    "# 인터파크 투어 사이트에서 여행지를 입력 후 검색 ->  잠시 후 -> 결과\n",
    "# 로그인 시 PC 웹 사이트에서 처리가 어려울 경우(보안이 빡세서) -> 모바일 로그인 진입\n",
    "\n",
    "# 모듈 가져오기\n",
    "# pip install selenium\n",
    "from selenium import webdriver as dr\n",
    "from selenium.webdriver.common.by import By\n",
    "# 명시적 대기를 위해\n",
    "from selenium.webdriver.support.ui import WebDriverWait\n",
    "from selenium.webdriver.support import expected_conditions as EC\n",
    "\n",
    "# 사전에 필요한 정보를 로드 -> 디비 or 쉘, 베치 파일에서 인자로 받아서 세팅\n",
    "# (어떻게 무엇을 검색해라)\n",
    "main_url = 'http://tour.interpark.com/'\n",
    "keyword = '로마'\n",
    "\n",
    "# 드라이버 로드\n",
    "driver = dr.Chrome(executable_path = 'chromedriver.exe')\n",
    "\n",
    "# 옵션 부여 -> 프록시, 에이전트 조작(몇 개씩 바꿔가면서 해야함, 모바일 앱은 또 디스플레이가 다름), 이미지를 배제(배너 제외, 속도 향상)\n",
    "# 크롤링을 오래 돌리면 -> 임시파일들이 쌓인다!! -> 템프 파일 삭제\n",
    "\n",
    "# 사이트 접속(get 방식)\n",
    "driver.get(main_url)\n",
    "\n",
    "# 검색창을 찾아서 검색어 입력\n",
    "# 처음은 고유값 id, 그 다음은 class, 다음은 부모 자식 관계\n",
    "# id : SearchGNBText\n",
    "driver.find_element_by_id('SearchGNBText').send_keys(keyword)\n",
    "# 수정할 경우 - > 뒤에 내용이 누적된다. -> .clear() -> send_keys('수정사항')"
   ]
  },
  {
   "cell_type": "code",
   "execution_count": 8,
   "metadata": {},
   "outputs": [],
   "source": [
    "# 검색 버튼 클릭\n",
    "# 검색 버튼 찾고 click 이벤트 실행\n",
    "driver.find_element_by_css_selector('.search-btn').click()\n",
    "# url로 하로 가는것이 빠르지만 리스크가 크다.(바뀔 수 있다)"
   ]
  },
  {
   "cell_type": "code",
   "execution_count": 13,
   "metadata": {},
   "outputs": [],
   "source": [
    "# 잠시 대기 -> 페이지가 로드되고 나서 즉각적으로 데이터를 획득하는 행위는\n",
    "# 명시적 대기(explicit wait) -> 특정 요소가 located될 때 까지(발견될 때 까지) 대기\n",
    "# 암묵적 대기(Implicit wait) -> Dom이 다 로드 될때가지 대가히고 먼저 로드되면 바로 진행\n",
    "# 절대적 대기 - > time.sleep() -> 클라우드 페어(디도스 방지 솔루션)\n",
    "\n",
    "# 명시적 대기\n",
    "try:\n",
    "    element = WebDriverWait(driver, 10).until( \n",
    "        # 지정한 한 개의 요소가 로드되면 wait 종료\n",
    "        EC.presence_of_element_located((By.CLASS_NAME, 'oTravelBox'))\n",
    "    \n",
    "    )\n",
    "except Exception as e:\n",
    "    print('오류발생', e)\n",
    "    \n",
    "# 암묵적 대기\n",
    "# 요소를 찾을 특정 시간 동안 dom 플링을 지시 예를 들어 10초 이내라도\n",
    "# 발견되면 실행\n",
    "driver.implicitly_wait(10) \n",
    "#  explicit wait : 특정 요소가 로드될 때 가지 - 페이지와 페이지 사이 무조건 들어가야 하는 코드\n",
    "# implicit wait : 그냥 기다리는 것(뭔가)\n",
    "\n",
    "# 더 보기 누루기 -> 게시판으로 진입\n",
    "driver.find_element_by_css_selector('.oTravelBox .boxList .moreBtnWrap .moreBtn').click()"
   ]
  },
  {
   "cell_type": "code",
   "execution_count": 4,
   "metadata": {},
   "outputs": [],
   "source": [
    "# 자제 -> 사이트 속도가 천차만별 + 장비, pc 천차만별, 찾고자 하는 요소를 만날때까지 기다려야함\n",
    "# 페이지가 변경되면 기다린다. 기다리는 방법(묵시적으로, 암묵적으로, 명시적으로)\n",
    "# 특정한 요소가 발견될 때까지 기다리느냐, 아니면 그냥 주냐, 아예 코드적으로 sleep"
   ]
  }
 ],
 "metadata": {
  "kernelspec": {
   "display_name": "Python 3",
   "language": "python",
   "name": "python3"
  },
  "language_info": {
   "codemirror_mode": {
    "name": "ipython",
    "version": 3
   },
   "file_extension": ".py",
   "mimetype": "text/x-python",
   "name": "python",
   "nbconvert_exporter": "python",
   "pygments_lexer": "ipython3",
   "version": "3.6.2"
  },
  "varInspector": {
   "cols": {
    "lenName": 16,
    "lenType": 16,
    "lenVar": 40
   },
   "kernels_config": {
    "python": {
     "delete_cmd_postfix": "",
     "delete_cmd_prefix": "del ",
     "library": "var_list.py",
     "varRefreshCmd": "print(var_dic_list())"
    },
    "r": {
     "delete_cmd_postfix": ") ",
     "delete_cmd_prefix": "rm(",
     "library": "var_list.r",
     "varRefreshCmd": "cat(var_dic_list()) "
    }
   },
   "types_to_exclude": [
    "module",
    "function",
    "builtin_function_or_method",
    "instance",
    "_Feature"
   ],
   "window_display": false
  }
 },
 "nbformat": 4,
 "nbformat_minor": 2
}
