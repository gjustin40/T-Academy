{
 "cells": [
  {
   "cell_type": "markdown",
   "metadata": {},
   "source": [
    "# 딥러닝을 위한 PyTorch 활용법\n",
    "## Chapter 2. Linear Regression\n",
    "- Linear Data\n",
    "- Linear Model\n",
    "- y = 2x + 3"
   ]
  },
  {
   "cell_type": "code",
   "execution_count": null,
   "metadata": {},
   "outputs": [],
   "source": [
    "import numpy as np\n",
    "import torch\n",
    "import torch.nn as nn # Linear 함수\n",
    "import torch.optim as optim # gradient\n",
    "import torch.nn.init as init # 초기값\n",
    "from torch.autograd import Variable # 모델 학습용"
   ]
  },
  {
   "cell_type": "code",
   "execution_count": null,
   "metadata": {
    "scrolled": true
   },
   "outputs": [],
   "source": [
    "# visdom은 페이스북에서 제공하는 시각화 툴이다.\n",
    "\n",
    "from visdom import Visdom\n",
    "viz = Visdom()"
   ]
  },
  {
   "cell_type": "markdown",
   "metadata": {},
   "source": [
    "## Generate Data\n",
    "- normal -> normal_\n",
    "- uniform -> uniform_\n",
    "- 강의와 버젼이 다름"
   ]
  },
  {
   "cell_type": "code",
   "execution_count": null,
   "metadata": {},
   "outputs": [],
   "source": [
    "num_data = 1000\n",
    "num_epoch = 1000\n",
    "\n",
    "noise = init.normal_(torch.FloatTensor(num_data, 1), std = 1)\n",
    "x = init.uniform_(torch.FloatTensor(num_data, 1), -10,10)\n",
    "\n",
    "y = 3*x + 5\n",
    "y_noise = y + noise"
   ]
  },
  {
   "cell_type": "code",
   "execution_count": 7,
   "metadata": {},
   "outputs": [
    {
     "data": {
      "text/plain": [
       "<matplotlib.collections.PathCollection at 0x21475f25240>"
      ]
     },
     "execution_count": 7,
     "metadata": {},
     "output_type": "execute_result"
    },
    {
     "data": {
      "image/png": "[encoded data removed]",
      "text/plain": [
       "<matplotlib.figure.Figure at 0x21472219978>"
      ]
     },
     "metadata": {},
     "output_type": "display_data"
    }
   ],
   "source": [
    "import matplotlib.pyplot as plt\n",
    "%matplotlib inline\n",
    "plt.figure(figsize = (5, 5))\n",
    "plt.plot(x.numpy(), y.numpy(), color = 'r')\n",
    "plt.scatter(x.numpy(), y.numpy(), color = 'g')"
   ]
  },
  {
   "cell_type": "markdown",
   "metadata": {},
   "source": [
    "## Model & Optimizer"
   ]
  },
  {
   "cell_type": "code",
   "execution_count": null,
   "metadata": {},
   "outputs": [],
   "source": [
    "model = nn.Linear(1,1) # input, output size\n",
    "output = model(Variable(x)) # \n",
    "\n",
    "loss_func = nn.MSELoss() # 이 매트릭(matric)으로 loss를 측정하겠다.\n",
    "optimizer = optim.SGD(model.parameters(), lr = 0.01) # 해당 optimizer로 업데이트 하겠다."
   ]
  },
  {
   "cell_type": "code",
   "execution_count": null,
   "metadata": {},
   "outputs": [],
   "source": [
    "print(optimizer.zero_grad())"
   ]
  },
  {
   "cell_type": "code",
   "execution_count": null,
   "metadata": {},
   "outputs": [],
   "source": [
    "list(model.parameters())"
   ]
  },
  {
   "cell_type": "markdown",
   "metadata": {},
   "source": [
    "## Train"
   ]
  },
  {
   "cell_type": "code",
   "execution_count": null,
   "metadata": {
    "scrolled": true
   },
   "outputs": [],
   "source": [
    "# train\n",
    "loss_arr = [] # 일단 보류\n",
    "\n",
    "label = Variable(y_noise)\n",
    "# output도 variable로 감싸줘야 함(input과 같이)\n",
    "# 결과가 Variable로 감싸져서 나옴\n",
    "for i in range(num_epoch):\n",
    "    optimizer.zero_grad() # 계산된 gradient를 초기화\n",
    "    output = model(Variable(x))\n",
    "    \n",
    "    loss = loss_func(output, label) # 정답(label)과 계산된 결과(output) 오차값\n",
    "    loss.backward() # 오차역전파\n",
    "    optimizer.step() #  해당 optimizer로 가중치값 갱신\n",
    "    \n",
    "    if i % 10 == 0:\n",
    "        print(loss)\n",
    "        \n",
    "    loss_arr.append(loss.data.numpy())\n"
   ]
  },
  {
   "cell_type": "markdown",
   "metadata": {},
   "source": [
    "## Check Trained Parameters"
   ]
  },
  {
   "cell_type": "code",
   "execution_count": null,
   "metadata": {},
   "outputs": [],
   "source": [
    "param_list = list(model.parameters())\n",
    "print(param_list[0].data, param_list[1].data) # y = 2x + 3"
   ]
  },
  {
   "cell_type": "markdown",
   "metadata": {},
   "source": [
    "## Visualize Loss Graph"
   ]
  },
  {
   "cell_type": "code",
   "execution_count": null,
   "metadata": {},
   "outputs": [],
   "source": [
    "plt.plot(np.arange(len(loss_arr)), loss_arr) # loss값 시각화\n",
    "plt.xlabel('Epoch')\n",
    "plt.ylabel('Loss')"
   ]
  },
  {
   "cell_type": "markdown",
   "metadata": {},
   "source": [
    "## 혼자서 실습해보기\n",
    "- Linear Regression 실습하기\n",
    "- y = 15x + 1"
   ]
  },
  {
   "cell_type": "code",
   "execution_count": 1,
   "metadata": {},
   "outputs": [],
   "source": [
    "import numpy as np\n",
    "import torch\n",
    "import torch.nn as nn\n",
    "import torch.nn.init as init\n",
    "import torch.optim as optim\n",
    "from torch.autograd import Variable"
   ]
  },
  {
   "cell_type": "code",
   "execution_count": 8,
   "metadata": {},
   "outputs": [],
   "source": [
    "data_num = 10000\n",
    "epoch_num = 1000\n",
    "noise = init.normal_(torch.Tensor(data_num, 1), std = 1)\n",
    "x = init.uniform_(torch.Tensor(data_num, 1), -10, 10)\n",
    "\n",
    "y = 15 * x + 1\n",
    "y_noise = y + noise"
   ]
  },
  {
   "cell_type": "code",
   "execution_count": null,
   "metadata": {},
   "outputs": [],
   "source": []
  },
  {
   "cell_type": "code",
   "execution_count": 9,
   "metadata": {},
   "outputs": [],
   "source": [
    "model = nn.Linear(1,1)\n",
    "output = Variable(model(x))\n",
    "\n",
    "loss_func = nn.MSELoss()\n",
    "optimizer = optim.SGD(model.parameters(), lr = 0.01)"
   ]
  },
  {
   "cell_type": "code",
   "execution_count": 10,
   "metadata": {
    "scrolled": true
   },
   "outputs": [
    {
     "name": "stdout",
     "output_type": "stream",
     "text": [
      "tensor(8390.0508, grad_fn=<MseLossBackward>)\n",
      "tensor(8390.0508, grad_fn=<MseLossBackward>)\n",
      "tensor(8390.0508, grad_fn=<MseLossBackward>)\n",
      "tensor(8390.0508, grad_fn=<MseLossBackward>)\n",
      "tensor(8390.0508, grad_fn=<MseLossBackward>)\n",
      "tensor(8390.0508, grad_fn=<MseLossBackward>)\n",
      "tensor(8390.0508, grad_fn=<MseLossBackward>)\n",
      "tensor(8390.0508, grad_fn=<MseLossBackward>)\n",
      "tensor(8390.0508, grad_fn=<MseLossBackward>)\n",
      "tensor(8390.0508, grad_fn=<MseLossBackward>)\n",
      "tensor(8390.0508, grad_fn=<MseLossBackward>)\n",
      "tensor(8390.0508, grad_fn=<MseLossBackward>)\n",
      "tensor(8390.0508, grad_fn=<MseLossBackward>)\n",
      "tensor(8390.0508, grad_fn=<MseLossBackward>)\n",
      "tensor(8390.0508, grad_fn=<MseLossBackward>)\n",
      "tensor(8390.0508, grad_fn=<MseLossBackward>)\n",
      "tensor(8390.0508, grad_fn=<MseLossBackward>)\n",
      "tensor(8390.0508, grad_fn=<MseLossBackward>)\n",
      "tensor(8390.0508, grad_fn=<MseLossBackward>)\n",
      "tensor(8390.0508, grad_fn=<MseLossBackward>)\n",
      "tensor(8390.0508, grad_fn=<MseLossBackward>)\n",
      "tensor(8390.0508, grad_fn=<MseLossBackward>)\n",
      "tensor(8390.0508, grad_fn=<MseLossBackward>)\n",
      "tensor(8390.0508, grad_fn=<MseLossBackward>)\n",
      "tensor(8390.0508, grad_fn=<MseLossBackward>)\n",
      "tensor(8390.0508, grad_fn=<MseLossBackward>)\n",
      "tensor(8390.0508, grad_fn=<MseLossBackward>)\n",
      "tensor(8390.0508, grad_fn=<MseLossBackward>)\n",
      "tensor(8390.0508, grad_fn=<MseLossBackward>)\n",
      "tensor(8390.0508, grad_fn=<MseLossBackward>)\n",
      "tensor(8390.0508, grad_fn=<MseLossBackward>)\n",
      "tensor(8390.0508, grad_fn=<MseLossBackward>)\n",
      "tensor(8390.0508, grad_fn=<MseLossBackward>)\n",
      "tensor(8390.0508, grad_fn=<MseLossBackward>)\n",
      "tensor(8390.0508, grad_fn=<MseLossBackward>)\n",
      "tensor(8390.0508, grad_fn=<MseLossBackward>)\n",
      "tensor(8390.0508, grad_fn=<MseLossBackward>)\n",
      "tensor(8390.0508, grad_fn=<MseLossBackward>)\n",
      "tensor(8390.0508, grad_fn=<MseLossBackward>)\n",
      "tensor(8390.0508, grad_fn=<MseLossBackward>)\n",
      "tensor(8390.0508, grad_fn=<MseLossBackward>)\n",
      "tensor(8390.0508, grad_fn=<MseLossBackward>)\n",
      "tensor(8390.0508, grad_fn=<MseLossBackward>)\n",
      "tensor(8390.0508, grad_fn=<MseLossBackward>)\n",
      "tensor(8390.0508, grad_fn=<MseLossBackward>)\n",
      "tensor(8390.0508, grad_fn=<MseLossBackward>)\n",
      "tensor(8390.0508, grad_fn=<MseLossBackward>)\n",
      "tensor(8390.0508, grad_fn=<MseLossBackward>)\n",
      "tensor(8390.0508, grad_fn=<MseLossBackward>)\n",
      "tensor(8390.0508, grad_fn=<MseLossBackward>)\n",
      "tensor(8390.0508, grad_fn=<MseLossBackward>)\n",
      "tensor(8390.0508, grad_fn=<MseLossBackward>)\n",
      "tensor(8390.0508, grad_fn=<MseLossBackward>)\n",
      "tensor(8390.0508, grad_fn=<MseLossBackward>)\n",
      "tensor(8390.0508, grad_fn=<MseLossBackward>)\n",
      "tensor(8390.0508, grad_fn=<MseLossBackward>)\n",
      "tensor(8390.0508, grad_fn=<MseLossBackward>)\n",
      "tensor(8390.0508, grad_fn=<MseLossBackward>)\n",
      "tensor(8390.0508, grad_fn=<MseLossBackward>)\n",
      "tensor(8390.0508, grad_fn=<MseLossBackward>)\n",
      "tensor(8390.0508, grad_fn=<MseLossBackward>)\n",
      "tensor(8390.0508, grad_fn=<MseLossBackward>)\n",
      "tensor(8390.0508, grad_fn=<MseLossBackward>)\n",
      "tensor(8390.0508, grad_fn=<MseLossBackward>)\n",
      "tensor(8390.0508, grad_fn=<MseLossBackward>)\n",
      "tensor(8390.0508, grad_fn=<MseLossBackward>)\n",
      "tensor(8390.0508, grad_fn=<MseLossBackward>)\n",
      "tensor(8390.0508, grad_fn=<MseLossBackward>)\n",
      "tensor(8390.0508, grad_fn=<MseLossBackward>)\n",
      "tensor(8390.0508, grad_fn=<MseLossBackward>)\n",
      "tensor(8390.0508, grad_fn=<MseLossBackward>)\n",
      "tensor(8390.0508, grad_fn=<MseLossBackward>)\n",
      "tensor(8390.0508, grad_fn=<MseLossBackward>)\n",
      "tensor(8390.0508, grad_fn=<MseLossBackward>)\n",
      "tensor(8390.0508, grad_fn=<MseLossBackward>)\n",
      "tensor(8390.0508, grad_fn=<MseLossBackward>)\n",
      "tensor(8390.0508, grad_fn=<MseLossBackward>)\n",
      "tensor(8390.0508, grad_fn=<MseLossBackward>)\n",
      "tensor(8390.0508, grad_fn=<MseLossBackward>)\n",
      "tensor(8390.0508, grad_fn=<MseLossBackward>)\n",
      "tensor(8390.0508, grad_fn=<MseLossBackward>)\n",
      "tensor(8390.0508, grad_fn=<MseLossBackward>)\n",
      "tensor(8390.0508, grad_fn=<MseLossBackward>)\n",
      "tensor(8390.0508, grad_fn=<MseLossBackward>)\n",
      "tensor(8390.0508, grad_fn=<MseLossBackward>)\n",
      "tensor(8390.0508, grad_fn=<MseLossBackward>)\n",
      "tensor(8390.0508, grad_fn=<MseLossBackward>)\n",
      "tensor(8390.0508, grad_fn=<MseLossBackward>)\n",
      "tensor(8390.0508, grad_fn=<MseLossBackward>)\n",
      "tensor(8390.0508, grad_fn=<MseLossBackward>)\n",
      "tensor(8390.0508, grad_fn=<MseLossBackward>)\n",
      "tensor(8390.0508, grad_fn=<MseLossBackward>)\n",
      "tensor(8390.0508, grad_fn=<MseLossBackward>)\n",
      "tensor(8390.0508, grad_fn=<MseLossBackward>)\n",
      "tensor(8390.0508, grad_fn=<MseLossBackward>)\n",
      "tensor(8390.0508, grad_fn=<MseLossBackward>)\n",
      "tensor(8390.0508, grad_fn=<MseLossBackward>)\n",
      "tensor(8390.0508, grad_fn=<MseLossBackward>)\n",
      "tensor(8390.0508, grad_fn=<MseLossBackward>)\n",
      "tensor(8390.0508, grad_fn=<MseLossBackward>)\n"
     ]
    }
   ],
   "source": [
    "loss_arr = []\n",
    "\n",
    "label = Variable(y_noise)\n",
    "\n",
    "for i in range(epoch_num):\n",
    "    optimizer.zero_grad()\n",
    "    \n",
    "    output = model(Variable(x))\n",
    "    loss = loss_func(output, label)\n",
    "    loss.backward\n",
    "    optimizer.step()\n",
    "    \n",
    "    if i % 10 == 0:\n",
    "        print(loss)\n",
    "    loss_arr.append(loss)"
   ]
  },
  {
   "cell_type": "code",
   "execution_count": 11,
   "metadata": {},
   "outputs": [
    {
     "name": "stdout",
     "output_type": "stream",
     "text": [
      "[Parameter containing:\n",
      "tensor([[-0.8662]], requires_grad=True), Parameter containing:\n",
      "tensor([0.7956], requires_grad=True)]\n"
     ]
    }
   ],
   "source": [
    "print(list(model.parameters()))"
   ]
  },
  {
   "cell_type": "code",
   "execution_count": null,
   "metadata": {},
   "outputs": [],
   "source": []
  }
 ],
 "metadata": {
  "kernelspec": {
   "display_name": "Python 3",
   "language": "python",
   "name": "python3"
  },
  "language_info": {
   "codemirror_mode": {
    "name": "ipython",
    "version": 3
   },
   "file_extension": ".py",
   "mimetype": "text/x-python",
   "name": "python",
   "nbconvert_exporter": "python",
   "pygments_lexer": "ipython3",
   "version": "3.6.2"
  },
  "varInspector": {
   "cols": {
    "lenName": 16,
    "lenType": 16,
    "lenVar": 40
   },
   "kernels_config": {
    "python": {
     "delete_cmd_postfix": "",
     "delete_cmd_prefix": "del ",
     "library": "var_list.py",
     "varRefreshCmd": "print(var_dic_list())"
    },
    "r": {
     "delete_cmd_postfix": ") ",
     "delete_cmd_prefix": "rm(",
     "library": "var_list.r",
     "varRefreshCmd": "cat(var_dic_list()) "
    }
   },
   "types_to_exclude": [
    "module",
    "function",
    "builtin_function_or_method",
    "instance",
    "_Feature"
   ],
   "window_display": false
  }
 },
 "nbformat": 4,
 "nbformat_minor": 2
}
