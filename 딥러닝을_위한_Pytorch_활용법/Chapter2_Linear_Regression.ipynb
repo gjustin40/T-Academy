{
 "cells": [
  {
   "cell_type": "markdown",
   "metadata": {},
   "source": [
    "# 딥러닝을 위한 PyTorch 활용법\n",
    "## Chapter 2. Linear Regression\n",
    "- Linear Data\n",
    "- Linear Model\n",
    "- y = 2x + 3"
   ]
  },
  {
   "cell_type": "code",
   "execution_count": 54,
   "metadata": {},
   "outputs": [],
   "source": [
    "import numpy as np\n",
    "import torch\n",
    "import torch.nn as nn # Linear 함수\n",
    "import torch.optim as optim # gradient\n",
    "import torch.nn.init as init # 초기값\n",
    "from torch.autograd import Variable # 모델 학습용"
   ]
  },
  {
   "cell_type": "code",
   "execution_count": 55,
   "metadata": {
    "scrolled": true
   },
   "outputs": [
    {
     "name": "stdout",
     "output_type": "stream",
     "text": [
      "Exception in user code:\n",
      "------------------------------------------------------------\n"
     ]
    },
    {
     "name": "stderr",
     "output_type": "stream",
     "text": [
      "Traceback (most recent call last):\n",
      "  File \"C:\\ProgramData\\Anaconda3\\lib\\site-packages\\urllib3\\connection.py\", line 141, in _new_conn\n",
      "    (self.host, self.port), self.timeout, **extra_kw)\n",
      "  File \"C:\\ProgramData\\Anaconda3\\lib\\site-packages\\urllib3\\util\\connection.py\", line 83, in create_connection\n",
      "    raise err\n",
      "  File \"C:\\ProgramData\\Anaconda3\\lib\\site-packages\\urllib3\\util\\connection.py\", line 73, in create_connection\n",
      "    sock.connect(sa)\n",
      "ConnectionRefusedError: [WinError 10061] 대상 컴퓨터에서 연결을 거부했으므로 연결하지 못했습니다\n",
      "\n",
      "During handling of the above exception, another exception occurred:\n",
      "\n",
      "Traceback (most recent call last):\n",
      "  File \"C:\\ProgramData\\Anaconda3\\lib\\site-packages\\urllib3\\connectionpool.py\", line 601, in urlopen\n",
      "    chunked=chunked)\n",
      "  File \"C:\\ProgramData\\Anaconda3\\lib\\site-packages\\urllib3\\connectionpool.py\", line 357, in _make_request\n",
      "    conn.request(method, url, **httplib_request_kw)\n",
      "  File \"C:\\ProgramData\\Anaconda3\\lib\\http\\client.py\", line 1239, in request\n",
      "    self._send_request(method, url, body, headers, encode_chunked)\n",
      "  File \"C:\\ProgramData\\Anaconda3\\lib\\http\\client.py\", line 1285, in _send_request\n",
      "    self.endheaders(body, encode_chunked=encode_chunked)\n",
      "  File \"C:\\ProgramData\\Anaconda3\\lib\\http\\client.py\", line 1234, in endheaders\n",
      "    self._send_output(message_body, encode_chunked=encode_chunked)\n",
      "  File \"C:\\ProgramData\\Anaconda3\\lib\\http\\client.py\", line 1026, in _send_output\n",
      "    self.send(msg)\n",
      "  File \"C:\\ProgramData\\Anaconda3\\lib\\http\\client.py\", line 964, in send\n",
      "    self.connect()\n",
      "  File \"C:\\ProgramData\\Anaconda3\\lib\\site-packages\\urllib3\\connection.py\", line 166, in connect\n",
      "    conn = self._new_conn()\n",
      "  File \"C:\\ProgramData\\Anaconda3\\lib\\site-packages\\urllib3\\connection.py\", line 150, in _new_conn\n",
      "    self, \"Failed to establish a new connection: %s\" % e)\n",
      "urllib3.exceptions.NewConnectionError: <urllib3.connection.HTTPConnection object at 0x0000016D37E37908>: Failed to establish a new connection: [WinError 10061] 대상 컴퓨터에서 연결을 거부했으므로 연결하지 못했습니다\n",
      "\n",
      "During handling of the above exception, another exception occurred:\n",
      "\n",
      "Traceback (most recent call last):\n",
      "  File \"C:\\ProgramData\\Anaconda3\\lib\\site-packages\\requests\\adapters.py\", line 440, in send\n",
      "    timeout=timeout\n",
      "  File \"C:\\ProgramData\\Anaconda3\\lib\\site-packages\\urllib3\\connectionpool.py\", line 639, in urlopen\n",
      "    _stacktrace=sys.exc_info()[2])\n",
      "  File \"C:\\ProgramData\\Anaconda3\\lib\\site-packages\\urllib3\\util\\retry.py\", line 388, in increment\n",
      "    raise MaxRetryError(_pool, url, error or ResponseError(cause))\n",
      "urllib3.exceptions.MaxRetryError: HTTPConnectionPool(host='localhost', port=8097): Max retries exceeded with url: /env/main (Caused by NewConnectionError('<urllib3.connection.HTTPConnection object at 0x0000016D37E37908>: Failed to establish a new connection: [WinError 10061] 대상 컴퓨터에서 연결을 거부했으므로 연결하지 못했습니다',))\n",
      "\n",
      "During handling of the above exception, another exception occurred:\n",
      "\n",
      "Traceback (most recent call last):\n",
      "  File \"C:\\ProgramData\\Anaconda3\\lib\\site-packages\\visdom\\__init__.py\", line 446, in _send\n",
      "    data=json.dumps(msg),\n",
      "  File \"C:\\ProgramData\\Anaconda3\\lib\\site-packages\\requests\\api.py\", line 112, in post\n",
      "    return request('post', url, data=data, json=json, **kwargs)\n",
      "  File \"C:\\ProgramData\\Anaconda3\\lib\\site-packages\\requests\\api.py\", line 58, in request\n",
      "    return session.request(method=method, url=url, **kwargs)\n",
      "  File \"C:\\ProgramData\\Anaconda3\\lib\\site-packages\\requests\\sessions.py\", line 508, in request\n",
      "    resp = self.send(prep, **send_kwargs)\n",
      "  File \"C:\\ProgramData\\Anaconda3\\lib\\site-packages\\requests\\sessions.py\", line 618, in send\n",
      "    r = adapter.send(request, **kwargs)\n",
      "  File \"C:\\ProgramData\\Anaconda3\\lib\\site-packages\\requests\\adapters.py\", line 508, in send\n",
      "    raise ConnectionError(e, request=request)\n",
      "requests.exceptions.ConnectionError: HTTPConnectionPool(host='localhost', port=8097): Max retries exceeded with url: /env/main (Caused by NewConnectionError('<urllib3.connection.HTTPConnection object at 0x0000016D37E37908>: Failed to establish a new connection: [WinError 10061] 대상 컴퓨터에서 연결을 거부했으므로 연결하지 못했습니다',))\n"
     ]
    }
   ],
   "source": [
    "# visdom은 페이스북에서 제공하는 시각화 툴이다.\n",
    "\n",
    "from visdom import Visdom\n",
    "viz = Visdom()"
   ]
  },
  {
   "cell_type": "markdown",
   "metadata": {},
   "source": [
    "## Generate Data\n",
    "- normal -> normal_\n",
    "- uniform -> uniform_\n",
    "- 강의와 버젼이 다름"
   ]
  },
  {
   "cell_type": "code",
   "execution_count": 56,
   "metadata": {},
   "outputs": [],
   "source": [
    "num_data = 1000\n",
    "num_epoch = 1000\n",
    "\n",
    "noise = init.normal_(torch.FloatTensor(num_data, 1), std = 1)\n",
    "x = init.uniform_(torch.FloatTensor(num_data, 1), -10,10)\n",
    "\n",
    "y = 3*x + 5\n",
    "y_noise = y + noise"
   ]
  },
  {
   "cell_type": "code",
   "execution_count": 57,
   "metadata": {},
   "outputs": [
    {
     "data": {
      "text/plain": [
       "<matplotlib.collections.PathCollection at 0x16d37fe24a8>"
      ]
     },
     "execution_count": 57,
     "metadata": {},
     "output_type": "execute_result"
    },
    {
     "data": {
      "image/png": "[encoded data removed]",
      "text/plain": [
       "<matplotlib.figure.Figure at 0x16d375f4a20>"
      ]
     },
     "metadata": {},
     "output_type": "display_data"
    }
   ],
   "source": [
    "import matplotlib.pyplot as plt\n",
    "%matplotlib inline\n",
    "plt.figure(figsize = (5, 5))\n",
    "plt.plot(x.numpy(), y.numpy(), color = 'r')\n",
    "plt.scatter(x.numpy(), y.numpy(), color = 'g')"
   ]
  },
  {
   "cell_type": "markdown",
   "metadata": {},
   "source": [
    "## Model & Optimizer"
   ]
  },
  {
   "cell_type": "code",
   "execution_count": 58,
   "metadata": {},
   "outputs": [],
   "source": [
    "model = nn.Linear(1,1) # input, output size\n",
    "output = model(Variable(x)) # \n",
    "\n",
    "loss_func = nn.MSELoss() # 이 매트릭(matric)으로 loss를 측정하겠다.\n",
    "optimizer = optim.SGD(model.parameters(), lr = 0.01) # 해당 optimizer로 업데이트 하겠다."
   ]
  },
  {
   "cell_type": "code",
   "execution_count": 59,
   "metadata": {},
   "outputs": [
    {
     "name": "stdout",
     "output_type": "stream",
     "text": [
      "None\n"
     ]
    }
   ],
   "source": [
    "print(optimizer.zero_grad())"
   ]
  },
  {
   "cell_type": "code",
   "execution_count": 60,
   "metadata": {},
   "outputs": [
    {
     "data": {
      "text/plain": [
       "[Parameter containing:\n",
       " tensor([[0.8377]], requires_grad=True), Parameter containing:\n",
       " tensor([-0.5210], requires_grad=True)]"
      ]
     },
     "execution_count": 60,
     "metadata": {},
     "output_type": "execute_result"
    }
   ],
   "source": [
    "list(model.parameters())"
   ]
  },
  {
   "cell_type": "markdown",
   "metadata": {},
   "source": [
    "## Train"
   ]
  },
  {
   "cell_type": "code",
   "execution_count": 61,
   "metadata": {
    "scrolled": true
   },
   "outputs": [
    {
     "name": "stdout",
     "output_type": "stream",
     "text": [
      "tensor(184.3606, grad_fn=<MseLossBackward>)\n",
      "tensor(21.4096, grad_fn=<MseLossBackward>)\n",
      "tensor(14.6338, grad_fn=<MseLossBackward>)\n",
      "tensor(10.1102, grad_fn=<MseLossBackward>)\n",
      "tensor(7.0902, grad_fn=<MseLossBackward>)\n",
      "tensor(5.0740, grad_fn=<MseLossBackward>)\n",
      "tensor(3.7279, grad_fn=<MseLossBackward>)\n",
      "tensor(2.8293, grad_fn=<MseLossBackward>)\n",
      "tensor(2.2294, grad_fn=<MseLossBackward>)\n",
      "tensor(1.8288, grad_fn=<MseLossBackward>)\n",
      "tensor(1.5614, grad_fn=<MseLossBackward>)\n",
      "tensor(1.3829, grad_fn=<MseLossBackward>)\n",
      "tensor(1.2637, grad_fn=<MseLossBackward>)\n",
      "tensor(1.1841, grad_fn=<MseLossBackward>)\n",
      "tensor(1.1310, grad_fn=<MseLossBackward>)\n",
      "tensor(1.0955, grad_fn=<MseLossBackward>)\n",
      "tensor(1.0719, grad_fn=<MseLossBackward>)\n",
      "tensor(1.0561, grad_fn=<MseLossBackward>)\n",
      "tensor(1.0455, grad_fn=<MseLossBackward>)\n",
      "tensor(1.0385, grad_fn=<MseLossBackward>)\n",
      "tensor(1.0338, grad_fn=<MseLossBackward>)\n",
      "tensor(1.0306, grad_fn=<MseLossBackward>)\n",
      "tensor(1.0285, grad_fn=<MseLossBackward>)\n",
      "tensor(1.0271, grad_fn=<MseLossBackward>)\n",
      "tensor(1.0262, grad_fn=<MseLossBackward>)\n",
      "tensor(1.0256, grad_fn=<MseLossBackward>)\n",
      "tensor(1.0252, grad_fn=<MseLossBackward>)\n",
      "tensor(1.0249, grad_fn=<MseLossBackward>)\n",
      "tensor(1.0247, grad_fn=<MseLossBackward>)\n",
      "tensor(1.0246, grad_fn=<MseLossBackward>)\n",
      "tensor(1.0245, grad_fn=<MseLossBackward>)\n",
      "tensor(1.0244, grad_fn=<MseLossBackward>)\n",
      "tensor(1.0244, grad_fn=<MseLossBackward>)\n",
      "tensor(1.0244, grad_fn=<MseLossBackward>)\n",
      "tensor(1.0243, grad_fn=<MseLossBackward>)\n",
      "tensor(1.0243, grad_fn=<MseLossBackward>)\n",
      "tensor(1.0243, grad_fn=<MseLossBackward>)\n",
      "tensor(1.0243, grad_fn=<MseLossBackward>)\n",
      "tensor(1.0243, grad_fn=<MseLossBackward>)\n",
      "tensor(1.0243, grad_fn=<MseLossBackward>)\n",
      "tensor(1.0243, grad_fn=<MseLossBackward>)\n",
      "tensor(1.0243, grad_fn=<MseLossBackward>)\n",
      "tensor(1.0243, grad_fn=<MseLossBackward>)\n",
      "tensor(1.0243, grad_fn=<MseLossBackward>)\n",
      "tensor(1.0243, grad_fn=<MseLossBackward>)\n",
      "tensor(1.0243, grad_fn=<MseLossBackward>)\n",
      "tensor(1.0243, grad_fn=<MseLossBackward>)\n",
      "tensor(1.0243, grad_fn=<MseLossBackward>)\n",
      "tensor(1.0243, grad_fn=<MseLossBackward>)\n",
      "tensor(1.0243, grad_fn=<MseLossBackward>)\n",
      "tensor(1.0243, grad_fn=<MseLossBackward>)\n",
      "tensor(1.0243, grad_fn=<MseLossBackward>)\n",
      "tensor(1.0243, grad_fn=<MseLossBackward>)\n",
      "tensor(1.0243, grad_fn=<MseLossBackward>)\n",
      "tensor(1.0243, grad_fn=<MseLossBackward>)\n",
      "tensor(1.0243, grad_fn=<MseLossBackward>)\n",
      "tensor(1.0243, grad_fn=<MseLossBackward>)\n",
      "tensor(1.0243, grad_fn=<MseLossBackward>)\n",
      "tensor(1.0243, grad_fn=<MseLossBackward>)\n",
      "tensor(1.0243, grad_fn=<MseLossBackward>)\n",
      "tensor(1.0243, grad_fn=<MseLossBackward>)\n",
      "tensor(1.0243, grad_fn=<MseLossBackward>)\n",
      "tensor(1.0243, grad_fn=<MseLossBackward>)\n",
      "tensor(1.0243, grad_fn=<MseLossBackward>)\n",
      "tensor(1.0243, grad_fn=<MseLossBackward>)\n",
      "tensor(1.0243, grad_fn=<MseLossBackward>)\n",
      "tensor(1.0243, grad_fn=<MseLossBackward>)\n",
      "tensor(1.0243, grad_fn=<MseLossBackward>)\n",
      "tensor(1.0243, grad_fn=<MseLossBackward>)\n",
      "tensor(1.0243, grad_fn=<MseLossBackward>)\n",
      "tensor(1.0243, grad_fn=<MseLossBackward>)\n",
      "tensor(1.0243, grad_fn=<MseLossBackward>)\n",
      "tensor(1.0243, grad_fn=<MseLossBackward>)\n",
      "tensor(1.0243, grad_fn=<MseLossBackward>)\n",
      "tensor(1.0243, grad_fn=<MseLossBackward>)\n",
      "tensor(1.0243, grad_fn=<MseLossBackward>)\n",
      "tensor(1.0243, grad_fn=<MseLossBackward>)\n",
      "tensor(1.0243, grad_fn=<MseLossBackward>)\n",
      "tensor(1.0243, grad_fn=<MseLossBackward>)\n",
      "tensor(1.0243, grad_fn=<MseLossBackward>)\n",
      "tensor(1.0243, grad_fn=<MseLossBackward>)\n",
      "tensor(1.0243, grad_fn=<MseLossBackward>)\n",
      "tensor(1.0243, grad_fn=<MseLossBackward>)\n",
      "tensor(1.0243, grad_fn=<MseLossBackward>)\n",
      "tensor(1.0243, grad_fn=<MseLossBackward>)\n",
      "tensor(1.0243, grad_fn=<MseLossBackward>)\n",
      "tensor(1.0243, grad_fn=<MseLossBackward>)\n",
      "tensor(1.0243, grad_fn=<MseLossBackward>)\n",
      "tensor(1.0243, grad_fn=<MseLossBackward>)\n",
      "tensor(1.0243, grad_fn=<MseLossBackward>)\n",
      "tensor(1.0243, grad_fn=<MseLossBackward>)\n",
      "tensor(1.0243, grad_fn=<MseLossBackward>)\n",
      "tensor(1.0243, grad_fn=<MseLossBackward>)\n",
      "tensor(1.0243, grad_fn=<MseLossBackward>)\n",
      "tensor(1.0243, grad_fn=<MseLossBackward>)\n",
      "tensor(1.0243, grad_fn=<MseLossBackward>)\n",
      "tensor(1.0243, grad_fn=<MseLossBackward>)\n",
      "tensor(1.0243, grad_fn=<MseLossBackward>)\n",
      "tensor(1.0243, grad_fn=<MseLossBackward>)\n",
      "tensor(1.0243, grad_fn=<MseLossBackward>)\n"
     ]
    }
   ],
   "source": [
    "# train\n",
    "loss_arr = [] # 일단 보류\n",
    "\n",
    "label = Variable(y_noise)\n",
    "# output도 variable로 감싸줘야 함(input과 같이)\n",
    "# 결과가 Variable로 감싸져서 나옴\n",
    "for i in range(num_epoch):\n",
    "    optimizer.zero_grad() # 계산된 gradient를 초기화\n",
    "    output = model(Variable(x))\n",
    "    \n",
    "    loss = loss_func(output, label) # 정답(label)과 계산된 결과(output) 오차값\n",
    "    loss.backward() # 오차역전파\n",
    "    optimizer.step() #  해당 optimizer로 가중치값 갱신\n",
    "    \n",
    "    if i % 10 == 0:\n",
    "        print(loss)\n",
    "        \n",
    "    loss_arr.append(loss.data.numpy())\n"
   ]
  },
  {
   "cell_type": "markdown",
   "metadata": {},
   "source": [
    "## Check Trained Parameters"
   ]
  },
  {
   "cell_type": "code",
   "execution_count": 62,
   "metadata": {},
   "outputs": [
    {
     "name": "stdout",
     "output_type": "stream",
     "text": [
      "tensor([[2.9886]]) tensor([5.0068])\n"
     ]
    }
   ],
   "source": [
    "param_list = list(model.parameters())\n",
    "print(param_list[0].data, param_list[1].data) # y = 2x + 3"
   ]
  },
  {
   "cell_type": "markdown",
   "metadata": {},
   "source": [
    "## Visualize Loss Graph"
   ]
  },
  {
   "cell_type": "code",
   "execution_count": 63,
   "metadata": {},
   "outputs": [
    {
     "data": {
      "text/plain": [
       "Text(0,0.5,'Loss')"
      ]
     },
     "execution_count": 63,
     "metadata": {},
     "output_type": "execute_result"
    },
    {
     "data": {
      "image/png": "[encoded data removed]",
      "text/plain": [
       "<matplotlib.figure.Figure at 0x16d37bda4a8>"
      ]
     },
     "metadata": {},
     "output_type": "display_data"
    }
   ],
   "source": [
    "plt.plot(np.arange(len(loss_arr)), loss_arr) # loss값 시각화\n",
    "plt.xlabel('Epoch')\n",
    "plt.ylabel('Loss')"
   ]
  }
 ],
 "metadata": {
  "kernelspec": {
   "display_name": "Python 3",
   "language": "python",
   "name": "python3"
  },
  "language_info": {
   "codemirror_mode": {
    "name": "ipython",
    "version": 3
   },
   "file_extension": ".py",
   "mimetype": "text/x-python",
   "name": "python",
   "nbconvert_exporter": "python",
   "pygments_lexer": "ipython3",
   "version": "3.6.2"
  },
  "varInspector": {
   "cols": {
    "lenName": 16,
    "lenType": 16,
    "lenVar": 40
   },
   "kernels_config": {
    "python": {
     "delete_cmd_postfix": "",
     "delete_cmd_prefix": "del ",
     "library": "var_list.py",
     "varRefreshCmd": "print(var_dic_list())"
    },
    "r": {
     "delete_cmd_postfix": ") ",
     "delete_cmd_prefix": "rm(",
     "library": "var_list.r",
     "varRefreshCmd": "cat(var_dic_list()) "
    }
   },
   "types_to_exclude": [
    "module",
    "function",
    "builtin_function_or_method",
    "instance",
    "_Feature"
   ],
   "window_display": false
  }
 },
 "nbformat": 4,
 "nbformat_minor": 2
}
